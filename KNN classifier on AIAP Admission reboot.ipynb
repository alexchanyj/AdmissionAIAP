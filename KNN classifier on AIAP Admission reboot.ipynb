{
 "cells": [
  {
   "cell_type": "markdown",
   "metadata": {},
   "source": [
    "Ref: https://www.python-course.eu/k_nearest_neighbor_classifier.php"
   ]
  },
  {
   "cell_type": "code",
   "execution_count": 1,
   "metadata": {},
   "outputs": [
    {
     "name": "stdout",
     "output_type": "stream",
     "text": [
      "Probability that any applicant will be admitted : 3.75%\n"
     ]
    }
   ],
   "source": [
    "#number of applications\n",
    "num_apps = 800\n",
    "\n",
    "#number admiited\n",
    "num_admitted =30\n",
    "\n",
    "print ('Probability that any applicant will be admitted : ' + str( num_admitted/num_apps*100 ) + '%' )"
   ]
  },
  {
   "cell_type": "markdown",
   "metadata": {},
   "source": [
    "## Data Preparation"
   ]
  },
  {
   "cell_type": "code",
   "execution_count": 2,
   "metadata": {},
   "outputs": [],
   "source": [
    "import numpy as np\n",
    "\n",
    "np.random.seed(54)\n",
    "\n",
    "#Randomising our inputs\n",
    "a=np.random.randint(1,10,num_apps)\n",
    "b=np.random.randint(1,10,num_apps)\n",
    "c=np.random.randint(1,10,num_apps)\n",
    "\n",
    "# X1 = (self-directedness, technical proficiency, communication skills), y1 = 1 or 0 \n",
    "X1=list(zip(a,b,c))\n"
   ]
  },
  {
   "cell_type": "code",
   "execution_count": 3,
   "metadata": {},
   "outputs": [
    {
     "name": "stdout",
     "output_type": "stream",
     "text": [
      "Number of applicants who scored 22 and above : 70\n",
      "Number of applicants who are admitted : 30\n"
     ]
    }
   ],
   "source": [
    "import pandas as pd\n",
    "\n",
    "#data prep\n",
    "df = pd.DataFrame(X1)\n",
    "df.columns = ['Self-directedness' , 'Technical', 'Communication']\n",
    "\n",
    "#add total column to sum up the attributes for analysis\n",
    "df['Total'] = df.sum(axis=1)\n",
    "\n",
    "#initialise all targets to 0\n",
    "df['Target'] = 0\n",
    "\n",
    "print('Number of applicants who scored 22 and above : ' + str( len(df[df['Total']>=22]) ) )\n",
    "\n",
    "#retrieve array of indices of applicants who scored 22 and above\n",
    "top_idx = df[df['Total']>=22].index\n",
    "top_idx = list(top_idx)\n",
    "\n",
    "#random selection of admitted applicants\n",
    "import random\n",
    "random.seed(23)\n",
    "selected_idx = random.sample(top_idx, num_admitted)  #this is a different function from np.random.sample\n",
    "\n",
    "#assign 1 to Target\n",
    "for i in selected_idx:\n",
    "    df.loc[i,'Target']=1\n",
    "\n",
    "print('Number of applicants who are admitted : ' + str( len(df[df['Target']==1]) ) )    \n",
    "\n",
    "#test whether our plan worked\n",
    "assert(len(df[df['Target']==1]) == num_admitted)"
   ]
  },
  {
   "cell_type": "markdown",
   "metadata": {},
   "source": [
    "## Target List"
   ]
  },
  {
   "cell_type": "code",
   "execution_count": 4,
   "metadata": {},
   "outputs": [
    {
     "name": "stdout",
     "output_type": "stream",
     "text": [
      "     Self-directedness  Technical  Communication  Total  Target\n",
      "16                   7          9              8     24       1\n",
      "24                   9          9              9     27       1\n",
      "26                   8          9              9     26       1\n",
      "53                   9          9              4     22       1\n",
      "81                   8          8              8     24       1\n",
      "100                  9          7              8     24       1\n",
      "144                  7          9              9     25       1\n",
      "168                  9          7              8     24       1\n",
      "182                  9          6              7     22       1\n",
      "186                  6          9              8     23       1\n",
      "209                  9          9              8     26       1\n",
      "230                  6          9              8     23       1\n",
      "260                  8          6              8     22       1\n",
      "293                  6          7              9     22       1\n",
      "305                  6          8              8     22       1\n",
      "320                  6          8              8     22       1\n",
      "331                  9          9              6     24       1\n",
      "366                  9          7              8     24       1\n",
      "374                  9          7              9     25       1\n",
      "427                  9          6              7     22       1\n",
      "437                  6          9              9     24       1\n",
      "448                  9          9              6     24       1\n",
      "564                  6          7              9     22       1\n",
      "565                  8          9              7     24       1\n",
      "575                  9          8              8     25       1\n",
      "664                  8          8              6     22       1\n",
      "667                  6          7              9     22       1\n",
      "746                  8          9              7     24       1\n",
      "759                  8          7              8     23       1\n",
      "765                  9          6              8     23       1\n"
     ]
    }
   ],
   "source": [
    "print(df[df['Target']==1])"
   ]
  },
  {
   "cell_type": "markdown",
   "metadata": {},
   "source": [
    "## Getting to y"
   ]
  },
  {
   "cell_type": "code",
   "execution_count": 5,
   "metadata": {},
   "outputs": [
    {
     "name": "stdout",
     "output_type": "stream",
     "text": [
      "(800, 3)\n",
      "(800,)\n"
     ]
    }
   ],
   "source": [
    "y = df.loc[:,'Target'].values\n",
    "\n",
    "X = np.array(X1)\n",
    "\n",
    "print (X.shape)\n",
    "print (y.shape)\n"
   ]
  },
  {
   "cell_type": "code",
   "execution_count": 6,
   "metadata": {},
   "outputs": [
    {
     "name": "stdout",
     "output_type": "stream",
     "text": [
      "[(7, 9, 8), (9, 2, 3), (8, 2, 4), (4, 3, 3), (3, 3, 8), (2, 7, 4), (3, 4, 4), (7, 2, 8), (9, 9, 9), (2, 8, 1), (8, 9, 9)]\n",
      "[1 0 0 0 0 0 0 0 1 0 1]\n"
     ]
    }
   ],
   "source": [
    "a=16\n",
    "b=27\n",
    "print(X1[a:b])\n",
    "print(y[a:b])\n"
   ]
  },
  {
   "cell_type": "code",
   "execution_count": 7,
   "metadata": {},
   "outputs": [
    {
     "name": "stdout",
     "output_type": "stream",
     "text": [
      "[[9 7 8]\n",
      " [6 4 7]\n",
      " [5 4 4]\n",
      " [3 7 4]] [1 0 0 0]\n",
      "[[5 6 8]\n",
      " [3 9 5]\n",
      " [3 3 1]\n",
      " [9 6 7]] [0 0 0 1]\n"
     ]
    }
   ],
   "source": [
    "indices = np.random.permutation(len(X))\n",
    "n_training_samples = 28\n",
    "learnset_data = X[indices[:-n_training_samples]]\n",
    "learnset_labels = y[indices[:-n_training_samples]]\n",
    "testset_data = X[indices[-n_training_samples:]]\n",
    "testset_labels = y[indices[-n_training_samples:]]\n",
    "print(learnset_data[:4], learnset_labels[:4])\n",
    "print(testset_data[:4], testset_labels[:4])"
   ]
  },
  {
   "cell_type": "code",
   "execution_count": 8,
   "metadata": {},
   "outputs": [
    {
     "data": {
      "image/png": "[encoded data removed]",
      "text/plain": [
       "<Figure size 432x288 with 1 Axes>"
      ]
     },
     "metadata": {
      "needs_background": "light"
     },
     "output_type": "display_data"
    }
   ],
   "source": [
    "# following line is only necessary, if you use ipython notebook!!!\n",
    "%matplotlib inline \n",
    "import matplotlib.pyplot as plt\n",
    "from mpl_toolkits.mplot3d import Axes3D\n",
    "\n",
    "X = []\n",
    "for iclass in range(3):\n",
    "    X.append([[], [], []])\n",
    "    for i in range(len(learnset_data)):\n",
    "        if learnset_labels[i] == iclass:\n",
    "            X[iclass][0].append(learnset_data[i][0])\n",
    "            X[iclass][1].append(learnset_data[i][1])\n",
    "            X[iclass][2].append(learnset_data[i][2])\n",
    "colours = (\"r\", \"g\", \"y\")\n",
    "fig = plt.figure()\n",
    "ax = fig.add_subplot(111, projection='3d')\n",
    "for iclass in range(3):\n",
    "       ax.scatter(X[iclass][0], X[iclass][1], X[iclass][2], c=colours[iclass])\n",
    "plt.show()"
   ]
  },
  {
   "cell_type": "markdown",
   "metadata": {},
   "source": [
    "Cannot really see the greens and yellows as they all have the same distribution as the red"
   ]
  },
  {
   "cell_type": "markdown",
   "metadata": {},
   "source": [
    "## Determining the Neighbours"
   ]
  },
  {
   "cell_type": "code",
   "execution_count": 9,
   "metadata": {},
   "outputs": [
    {
     "name": "stdout",
     "output_type": "stream",
     "text": [
      "4.47213595499958\n",
      "6.164414002968976\n"
     ]
    }
   ],
   "source": [
    "def distance(instance1, instance2):\n",
    "    # just in case, if the instances are lists or tuples:\n",
    "    instance1 = np.array(instance1) \n",
    "    instance2 = np.array(instance2)\n",
    "    \n",
    "    return np.linalg.norm(instance1 - instance2)\n",
    "\n",
    "print(distance([3, 5], [1, 1]))\n",
    "print(distance(learnset_data[3], learnset_data[44]))"
   ]
  },
  {
   "cell_type": "code",
   "execution_count": 10,
   "metadata": {},
   "outputs": [],
   "source": [
    "def get_neighbors(training_set, \n",
    "                  labels, \n",
    "                  test_instance, \n",
    "                  k, \n",
    "                  distance=distance):\n",
    "    \"\"\"\n",
    "    get_neighors calculates a list of the k nearest neighbors\n",
    "    of an instance 'test_instance'.\n",
    "    The list neighbors contains 3-tuples with  \n",
    "    (index, dist, label)\n",
    "    where \n",
    "    index    is the index from the training_set, \n",
    "    dist     is the distance between the test_instance and the \n",
    "             instance training_set[index]\n",
    "    distance is a reference to a function used to calculate the \n",
    "             distances\n",
    "    \"\"\"\n",
    "    distances = []\n",
    "    for index in range(len(training_set)):\n",
    "        dist = distance(test_instance, training_set[index])\n",
    "        distances.append((training_set[index], dist, labels[index]))\n",
    "    distances.sort(key=lambda x: x[1])\n",
    "    neighbors = distances[:k]\n",
    "    return neighbors"
   ]
  },
  {
   "cell_type": "code",
   "execution_count": 11,
   "metadata": {},
   "outputs": [
    {
     "name": "stdout",
     "output_type": "stream",
     "text": [
      "0 [5 6 8] 0 [(array([5, 6, 8]), 0.0, 0), (array([4, 6, 8]), 1.0, 0), (array([5, 6, 7]), 1.0, 0)]\n",
      "1 [3 9 5] 0 [(array([3, 9, 4]), 1.0, 0), (array([3, 9, 4]), 1.0, 0), (array([3, 9, 6]), 1.0, 0)]\n",
      "2 [3 3 1] 0 [(array([3, 4, 1]), 1.0, 0), (array([4, 3, 1]), 1.0, 0), (array([3, 3, 2]), 1.0, 0)]\n",
      "3 [9 6 7] 1 [(array([9, 6, 7]), 0.0, 1), (array([9, 6, 7]), 0.0, 0), (array([9, 6, 7]), 0.0, 0)]\n",
      "4 [3 7 3] 0 [(array([3, 7, 3]), 0.0, 0), (array([3, 7, 4]), 1.0, 0), (array([3, 8, 3]), 1.0, 0)]\n"
     ]
    }
   ],
   "source": [
    "for i in range(5):\n",
    "    neighbors = get_neighbors(learnset_data, \n",
    "                              learnset_labels, \n",
    "                              testset_data[i], \n",
    "                              3, \n",
    "                              distance=distance)\n",
    "    print(i, \n",
    "          testset_data[i], \n",
    "          testset_labels[i], \n",
    "          neighbors)\n",
    "    "
   ]
  },
  {
   "cell_type": "markdown",
   "metadata": {},
   "source": [
    "## Voting to get a single result"
   ]
  },
  {
   "cell_type": "code",
   "execution_count": 12,
   "metadata": {},
   "outputs": [],
   "source": [
    "from collections import Counter\n",
    "def vote(neighbors):\n",
    "    class_counter = Counter()\n",
    "    for neighbor in neighbors:\n",
    "        class_counter[neighbor[2]] += 1\n",
    "    return class_counter.most_common(1)[0][0]"
   ]
  },
  {
   "cell_type": "code",
   "execution_count": 13,
   "metadata": {},
   "outputs": [
    {
     "name": "stdout",
     "output_type": "stream",
     "text": [
      "[(array([5, 6, 8]), 0.0, 0), (array([4, 6, 8]), 1.0, 0), (array([5, 6, 7]), 1.0, 0)]\n",
      "[(array([3, 9, 4]), 1.0, 0), (array([3, 9, 4]), 1.0, 0), (array([3, 9, 6]), 1.0, 0)]\n",
      "[(array([3, 4, 1]), 1.0, 0), (array([4, 3, 1]), 1.0, 0), (array([3, 3, 2]), 1.0, 0)]\n",
      "[(array([9, 6, 7]), 0.0, 1), (array([9, 6, 7]), 0.0, 0), (array([9, 6, 7]), 0.0, 0)]\n",
      "[(array([3, 7, 3]), 0.0, 0), (array([3, 7, 4]), 1.0, 0), (array([3, 8, 3]), 1.0, 0)]\n",
      "[(array([1, 1, 1]), 1.0, 0), (array([3, 1, 1]), 1.0, 0), (array([1, 2, 1]), 1.4142135623730951, 0)]\n",
      "[(array([8, 8, 8]), 0.0, 0), (array([8, 8, 8]), 0.0, 1), (array([8, 9, 8]), 1.0, 0)]\n",
      "[(array([9, 4, 6]), 0.0, 0), (array([9, 3, 6]), 1.0, 0), (array([9, 5, 6]), 1.0, 0)]\n",
      "[(array([2, 5, 2]), 0.0, 0), (array([2, 5, 2]), 0.0, 0), (array([2, 5, 3]), 1.0, 0)]\n",
      "[(array([1, 2, 1]), 1.0, 0), (array([3, 2, 1]), 1.0, 0), (array([3, 2, 1]), 1.0, 0)]\n",
      "[(array([1, 1, 2]), 0.0, 0), (array([1, 1, 2]), 0.0, 0), (array([1, 1, 2]), 0.0, 0)]\n",
      "[(array([4, 8, 8]), 1.0, 0), (array([4, 8, 8]), 1.0, 0), (array([3, 9, 8]), 1.0, 0)]\n",
      "[(array([8, 8, 4]), 0.0, 0), (array([8, 8, 4]), 0.0, 0), (array([8, 8, 4]), 0.0, 0)]\n",
      "[(array([2, 6, 7]), 1.0, 0), (array([3, 6, 6]), 1.0, 0), (array([2, 7, 6]), 1.0, 0)]\n",
      "[(array([2, 5, 6]), 0.0, 0), (array([2, 4, 6]), 1.0, 0), (array([2, 4, 6]), 1.0, 0)]\n",
      "[(array([2, 4, 9]), 0.0, 0), (array([3, 4, 9]), 1.0, 0), (array([1, 4, 9]), 1.0, 0)]\n",
      "[(array([4, 9, 4]), 0.0, 0), (array([4, 9, 4]), 0.0, 0), (array([3, 9, 4]), 1.0, 0)]\n",
      "[(array([9, 7, 8]), 0.0, 1), (array([9, 7, 8]), 0.0, 1), (array([9, 7, 9]), 1.0, 0)]\n",
      "[(array([7, 9, 9]), 0.0, 0), (array([8, 9, 9]), 1.0, 0), (array([6, 9, 9]), 1.0, 0)]\n",
      "[(array([3, 7, 9]), 1.0, 0), (array([3, 5, 9]), 1.0, 0), (array([3, 7, 9]), 1.0, 0)]\n",
      "[(array([9, 6, 8]), 0.0, 0), (array([9, 7, 8]), 1.0, 1), (array([8, 6, 8]), 1.0, 1)]\n",
      "[(array([3, 8, 9]), 0.0, 0), (array([3, 7, 9]), 1.0, 0), (array([3, 7, 9]), 1.0, 0)]\n",
      "[(array([1, 4, 2]), 0.0, 0), (array([2, 4, 2]), 1.0, 0), (array([1, 5, 2]), 1.0, 0)]\n",
      "[(array([6, 8, 8]), 0.0, 0), (array([6, 8, 8]), 0.0, 1), (array([6, 8, 8]), 0.0, 1)]\n",
      "[(array([5, 1, 2]), 1.0, 0), (array([5, 2, 3]), 1.0, 0), (array([6, 1, 3]), 1.0, 0)]\n",
      "[(array([5, 1, 2]), 1.0, 0), (array([5, 2, 3]), 1.0, 0), (array([6, 1, 3]), 1.0, 0)]\n",
      "[(array([2, 4, 7]), 0.0, 0), (array([2, 4, 7]), 0.0, 0), (array([2, 4, 7]), 0.0, 0)]\n",
      "[(array([6, 3, 6]), 0.0, 0), (array([6, 3, 6]), 0.0, 0), (array([6, 3, 6]), 0.0, 0)]\n"
     ]
    }
   ],
   "source": [
    "for i in range(n_training_samples):\n",
    "    neighbors = get_neighbors(learnset_data, \n",
    "                              learnset_labels, \n",
    "                              testset_data[i], \n",
    "                              3, \n",
    "                              distance=distance)\n",
    "    print(neighbors)"
   ]
  },
  {
   "cell_type": "code",
   "execution_count": 14,
   "metadata": {},
   "outputs": [
    {
     "name": "stdout",
     "output_type": "stream",
     "text": [
      "index:  0 , result of vote:  0 , label:  0 , data:  [5 6 8]\n",
      "index:  1 , result of vote:  0 , label:  0 , data:  [3 9 5]\n",
      "index:  2 , result of vote:  0 , label:  0 , data:  [3 3 1]\n",
      "index:  3 , result of vote:  0 , label:  1 , data:  [9 6 7]\n",
      "index:  4 , result of vote:  0 , label:  0 , data:  [3 7 3]\n",
      "index:  5 , result of vote:  0 , label:  0 , data:  [2 1 1]\n",
      "index:  6 , result of vote:  0 , label:  0 , data:  [8 8 8]\n",
      "index:  7 , result of vote:  0 , label:  0 , data:  [9 4 6]\n",
      "index:  8 , result of vote:  0 , label:  0 , data:  [2 5 2]\n",
      "index:  9 , result of vote:  0 , label:  0 , data:  [2 2 1]\n",
      "index:  10 , result of vote:  0 , label:  0 , data:  [1 1 2]\n",
      "index:  11 , result of vote:  0 , label:  0 , data:  [3 8 8]\n",
      "index:  12 , result of vote:  0 , label:  0 , data:  [8 8 4]\n",
      "index:  13 , result of vote:  0 , label:  0 , data:  [2 6 6]\n",
      "index:  14 , result of vote:  0 , label:  0 , data:  [2 5 6]\n",
      "index:  15 , result of vote:  0 , label:  0 , data:  [2 4 9]\n",
      "index:  16 , result of vote:  0 , label:  0 , data:  [4 9 4]\n",
      "index:  17 , result of vote:  1 , label:  1 , data:  [9 7 8]\n",
      "index:  18 , result of vote:  0 , label:  1 , data:  [7 9 9]\n",
      "index:  19 , result of vote:  0 , label:  0 , data:  [3 6 9]\n",
      "index:  20 , result of vote:  1 , label:  1 , data:  [9 6 8]\n",
      "index:  21 , result of vote:  0 , label:  0 , data:  [3 8 9]\n",
      "index:  22 , result of vote:  0 , label:  0 , data:  [1 4 2]\n",
      "index:  23 , result of vote:  1 , label:  0 , data:  [6 8 8]\n",
      "index:  24 , result of vote:  0 , label:  0 , data:  [5 1 3]\n",
      "index:  25 , result of vote:  0 , label:  0 , data:  [5 1 3]\n",
      "index:  26 , result of vote:  0 , label:  0 , data:  [2 4 7]\n",
      "index:  27 , result of vote:  0 , label:  0 , data:  [6 3 6]\n"
     ]
    }
   ],
   "source": [
    "for i in range(n_training_samples):\n",
    "    neighbors = get_neighbors(learnset_data, \n",
    "                              learnset_labels, \n",
    "                              testset_data[i], \n",
    "                              3, \n",
    "                              distance=distance)\n",
    "    print(\"index: \", i, \n",
    "          \", result of vote: \", vote(neighbors), \n",
    "          \", label: \", testset_labels[i], \n",
    "          \", data: \", testset_data[i])"
   ]
  },
  {
   "cell_type": "code",
   "execution_count": 15,
   "metadata": {},
   "outputs": [],
   "source": [
    "def vote_prob(neighbors):\n",
    "    class_counter = Counter()\n",
    "    for neighbor in neighbors:\n",
    "        class_counter[neighbor[2]] += 1\n",
    "    labels, votes = zip(*class_counter.most_common())\n",
    "    winner = class_counter.most_common(1)[0][0]\n",
    "    votes4winner = class_counter.most_common(1)[0][1]\n",
    "    return winner, votes4winner/sum(votes)"
   ]
  },
  {
   "cell_type": "code",
   "execution_count": 16,
   "metadata": {},
   "outputs": [
    {
     "name": "stdout",
     "output_type": "stream",
     "text": [
      "index:  0 , vote_prob:  (0, 1.0) , label:  0 , data:  [5 6 8]\n",
      "index:  1 , vote_prob:  (0, 1.0) , label:  0 , data:  [3 9 5]\n",
      "index:  2 , vote_prob:  (0, 1.0) , label:  0 , data:  [3 3 1]\n",
      "index:  3 , vote_prob:  (0, 0.8) , label:  1 , data:  [9 6 7]\n",
      "index:  4 , vote_prob:  (0, 1.0) , label:  0 , data:  [3 7 3]\n",
      "index:  5 , vote_prob:  (0, 1.0) , label:  0 , data:  [2 1 1]\n",
      "index:  6 , vote_prob:  (0, 0.6) , label:  0 , data:  [8 8 8]\n",
      "index:  7 , vote_prob:  (0, 1.0) , label:  0 , data:  [9 4 6]\n",
      "index:  8 , vote_prob:  (0, 1.0) , label:  0 , data:  [2 5 2]\n",
      "index:  9 , vote_prob:  (0, 1.0) , label:  0 , data:  [2 2 1]\n",
      "index:  10 , vote_prob:  (0, 1.0) , label:  0 , data:  [1 1 2]\n",
      "index:  11 , vote_prob:  (0, 1.0) , label:  0 , data:  [3 8 8]\n",
      "index:  12 , vote_prob:  (0, 1.0) , label:  0 , data:  [8 8 4]\n",
      "index:  13 , vote_prob:  (0, 1.0) , label:  0 , data:  [2 6 6]\n",
      "index:  14 , vote_prob:  (0, 1.0) , label:  0 , data:  [2 5 6]\n",
      "index:  15 , vote_prob:  (0, 1.0) , label:  0 , data:  [2 4 9]\n",
      "index:  16 , vote_prob:  (0, 1.0) , label:  0 , data:  [4 9 4]\n",
      "index:  17 , vote_prob:  (0, 0.6) , label:  1 , data:  [9 7 8]\n",
      "index:  18 , vote_prob:  (0, 0.8) , label:  1 , data:  [7 9 9]\n",
      "index:  19 , vote_prob:  (0, 1.0) , label:  0 , data:  [3 6 9]\n",
      "index:  20 , vote_prob:  (1, 0.6) , label:  1 , data:  [9 6 8]\n",
      "index:  21 , vote_prob:  (0, 1.0) , label:  0 , data:  [3 8 9]\n",
      "index:  22 , vote_prob:  (0, 1.0) , label:  0 , data:  [1 4 2]\n",
      "index:  23 , vote_prob:  (1, 0.6) , label:  0 , data:  [6 8 8]\n",
      "index:  24 , vote_prob:  (0, 1.0) , label:  0 , data:  [5 1 3]\n",
      "index:  25 , vote_prob:  (0, 1.0) , label:  0 , data:  [5 1 3]\n",
      "index:  26 , vote_prob:  (0, 1.0) , label:  0 , data:  [2 4 7]\n",
      "index:  27 , vote_prob:  (0, 1.0) , label:  0 , data:  [6 3 6]\n"
     ]
    }
   ],
   "source": [
    "for i in range(n_training_samples):\n",
    "    neighbors = get_neighbors(learnset_data, \n",
    "                              learnset_labels, \n",
    "                              testset_data[i], \n",
    "                              5, \n",
    "                              distance=distance)\n",
    "    print(\"index: \", i, \n",
    "          \", vote_prob: \", vote_prob(neighbors), \n",
    "          \", label: \", testset_labels[i], \n",
    "          \", data: \", testset_data[i])"
   ]
  },
  {
   "cell_type": "markdown",
   "metadata": {},
   "source": [
    "## The Weighted Nearest Neighbour Classifier"
   ]
  },
  {
   "cell_type": "code",
   "execution_count": 17,
   "metadata": {},
   "outputs": [],
   "source": [
    "def vote_harmonic_weights(neighbors, all_results=True):\n",
    "    class_counter = Counter()\n",
    "    number_of_neighbors = len(neighbors)\n",
    "    for index in range(number_of_neighbors):\n",
    "        class_counter[neighbors[index][2]] += 1/(index+1)\n",
    "    labels, votes = zip(*class_counter.most_common())\n",
    "    #print(labels, votes)\n",
    "    winner = class_counter.most_common(1)[0][0]\n",
    "    votes4winner = class_counter.most_common(1)[0][1]\n",
    "    if all_results:\n",
    "        total = sum(class_counter.values(), 0.0)\n",
    "        for key in class_counter:\n",
    "             class_counter[key] /= total\n",
    "        return winner, class_counter.most_common()\n",
    "    else:\n",
    "        return winner, votes4winner / sum(votes)"
   ]
  },
  {
   "cell_type": "code",
   "execution_count": 18,
   "metadata": {},
   "outputs": [
    {
     "name": "stdout",
     "output_type": "stream",
     "text": [
      "index:  0 , result of vote:  (0, [(0, 1.0)]) , label:  0 , data:  [5 6 8]\n",
      "index:  1 , result of vote:  (0, [(0, 1.0)]) , label:  0 , data:  [3 9 5]\n",
      "index:  2 , result of vote:  (0, [(0, 1.0)]) , label:  0 , data:  [3 3 1]\n",
      "index:  3 , result of vote:  (0, [(0, 0.5918367346938775), (1, 0.4081632653061224)]) , label:  1 , data:  [9 6 7]\n",
      "index:  4 , result of vote:  (0, [(0, 1.0)]) , label:  0 , data:  [3 7 3]\n",
      "index:  5 , result of vote:  (0, [(0, 1.0)]) , label:  0 , data:  [2 1 1]\n",
      "index:  6 , result of vote:  (0, [(0, 0.6462585034013606), (1, 0.35374149659863946)]) , label:  0 , data:  [8 8 8]\n",
      "index:  7 , result of vote:  (0, [(0, 1.0)]) , label:  0 , data:  [9 4 6]\n",
      "index:  8 , result of vote:  (0, [(0, 1.0)]) , label:  0 , data:  [2 5 2]\n",
      "index:  9 , result of vote:  (0, [(0, 1.0)]) , label:  0 , data:  [2 2 1]\n",
      "index:  10 , result of vote:  (0, [(0, 1.0)]) , label:  0 , data:  [1 1 2]\n",
      "index:  11 , result of vote:  (0, [(0, 1.0)]) , label:  0 , data:  [3 8 8]\n",
      "index:  12 , result of vote:  (0, [(0, 1.0)]) , label:  0 , data:  [8 8 4]\n",
      "index:  13 , result of vote:  (0, [(0, 1.0)]) , label:  0 , data:  [2 6 6]\n",
      "index:  14 , result of vote:  (0, [(0, 1.0)]) , label:  0 , data:  [2 5 6]\n",
      "index:  15 , result of vote:  (0, [(0, 1.0)]) , label:  0 , data:  [2 4 9]\n",
      "index:  16 , result of vote:  (0, [(0, 1.0)]) , label:  0 , data:  [4 9 4]\n",
      "index:  17 , result of vote:  (1, [(1, 0.6802721088435374), (0, 0.3197278911564625)]) , label:  1 , data:  [9 7 8]\n",
      "index:  18 , result of vote:  (0, [(0, 0.8299319727891157), (1, 0.17006802721088435)]) , label:  1 , data:  [7 9 9]\n",
      "index:  19 , result of vote:  (0, [(0, 1.0)]) , label:  0 , data:  [3 6 9]\n",
      "index:  20 , result of vote:  (0, [(0, 0.5578231292517006), (1, 0.44217687074829926)]) , label:  1 , data:  [9 6 8]\n",
      "index:  21 , result of vote:  (0, [(0, 1.0)]) , label:  0 , data:  [3 8 9]\n",
      "index:  22 , result of vote:  (0, [(0, 1.0)]) , label:  0 , data:  [1 4 2]\n",
      "index:  23 , result of vote:  (0, [(0, 0.5782312925170068), (1, 0.4217687074829931)]) , label:  0 , data:  [6 8 8]\n",
      "index:  24 , result of vote:  (0, [(0, 1.0)]) , label:  0 , data:  [5 1 3]\n",
      "index:  25 , result of vote:  (0, [(0, 1.0)]) , label:  0 , data:  [5 1 3]\n",
      "index:  26 , result of vote:  (0, [(0, 1.0)]) , label:  0 , data:  [2 4 7]\n",
      "index:  27 , result of vote:  (0, [(0, 1.0)]) , label:  0 , data:  [6 3 6]\n"
     ]
    }
   ],
   "source": [
    "for i in range(n_training_samples):\n",
    "    neighbors = get_neighbors(learnset_data, \n",
    "                              learnset_labels, \n",
    "                              testset_data[i], \n",
    "                              6, \n",
    "                              distance=distance)\n",
    "    print(\"index: \", i, \n",
    "          \", result of vote: \", \n",
    "          vote_harmonic_weights(neighbors,\n",
    "                                all_results=True),\n",
    "          \", label: \", testset_labels[i], \n",
    "          \", data: \", testset_data[i])"
   ]
  },
  {
   "cell_type": "code",
   "execution_count": 19,
   "metadata": {},
   "outputs": [],
   "source": [
    "def vote_distance_weights(neighbors, all_results=True):\n",
    "    class_counter = Counter()\n",
    "    number_of_neighbors = len(neighbors)\n",
    "    for index in range(number_of_neighbors):\n",
    "        dist = neighbors[index][1]\n",
    "        label = neighbors[index][2]\n",
    "        class_counter[label] += 1 / (dist**2 + 1)\n",
    "    labels, votes = zip(*class_counter.most_common())\n",
    "    #print(labels, votes)\n",
    "    winner = class_counter.most_common(1)[0][0]\n",
    "    votes4winner = class_counter.most_common(1)[0][1]\n",
    "    if all_results:\n",
    "        total = sum(class_counter.values(), 0.0)\n",
    "        for key in class_counter:\n",
    "             class_counter[key] /= total\n",
    "        return winner, class_counter.most_common()\n",
    "    else:\n",
    "        return winner, votes4winner / sum(votes)"
   ]
  },
  {
   "cell_type": "code",
   "execution_count": 20,
   "metadata": {},
   "outputs": [
    {
     "name": "stdout",
     "output_type": "stream",
     "text": [
      "index:  0 , result of vote:  (0, [(0, 1.0)]) , label:  0 , data:  [5 6 8]\n",
      "index:  1 , result of vote:  (0, [(0, 1.0)]) , label:  0 , data:  [3 9 5]\n",
      "index:  2 , result of vote:  (0, [(0, 1.0)]) , label:  0 , data:  [3 3 1]\n",
      "index:  3 , result of vote:  (0, [(0, 0.7777777777777778), (1, 0.2222222222222222)]) , label:  1 , data:  [9 6 7]\n",
      "index:  4 , result of vote:  (0, [(0, 1.0)]) , label:  0 , data:  [3 7 3]\n",
      "index:  5 , result of vote:  (0, [(0, 1.0)]) , label:  0 , data:  [2 1 1]\n",
      "index:  6 , result of vote:  (0, [(0, 0.5), (1, 0.5)]) , label:  0 , data:  [8 8 8]\n",
      "index:  7 , result of vote:  (0, [(0, 1.0)]) , label:  0 , data:  [9 4 6]\n",
      "index:  8 , result of vote:  (0, [(0, 1.0)]) , label:  0 , data:  [2 5 2]\n",
      "index:  9 , result of vote:  (0, [(0, 1.0)]) , label:  0 , data:  [2 2 1]\n",
      "index:  10 , result of vote:  (0, [(0, 1.0)]) , label:  0 , data:  [1 1 2]\n",
      "index:  11 , result of vote:  (0, [(0, 1.0)]) , label:  0 , data:  [3 8 8]\n",
      "index:  12 , result of vote:  (0, [(0, 1.0)]) , label:  0 , data:  [8 8 4]\n",
      "index:  13 , result of vote:  (0, [(0, 1.0)]) , label:  0 , data:  [2 6 6]\n",
      "index:  14 , result of vote:  (0, [(0, 1.0)]) , label:  0 , data:  [2 5 6]\n",
      "index:  15 , result of vote:  (0, [(0, 1.0)]) , label:  0 , data:  [2 4 9]\n",
      "index:  16 , result of vote:  (0, [(0, 1.0)]) , label:  0 , data:  [4 9 4]\n",
      "index:  17 , result of vote:  (1, [(1, 0.625), (0, 0.375)]) , label:  1 , data:  [9 7 8]\n",
      "index:  18 , result of vote:  (0, [(0, 0.7142857142857143), (1, 0.2857142857142857)]) , label:  1 , data:  [7 9 9]\n",
      "index:  19 , result of vote:  (0, [(0, 1.0)]) , label:  0 , data:  [3 6 9]\n",
      "index:  20 , result of vote:  (0, [(0, 0.5714285714285714), (1, 0.42857142857142855)]) , label:  1 , data:  [9 6 8]\n",
      "index:  21 , result of vote:  (0, [(0, 1.0)]) , label:  0 , data:  [3 8 9]\n",
      "index:  22 , result of vote:  (0, [(0, 1.0)]) , label:  0 , data:  [1 4 2]\n",
      "index:  23 , result of vote:  (0, [(0, 0.5), (1, 0.5)]) , label:  0 , data:  [6 8 8]\n",
      "index:  24 , result of vote:  (0, [(0, 1.0)]) , label:  0 , data:  [5 1 3]\n",
      "index:  25 , result of vote:  (0, [(0, 1.0)]) , label:  0 , data:  [5 1 3]\n",
      "index:  26 , result of vote:  (0, [(0, 1.0)]) , label:  0 , data:  [2 4 7]\n",
      "index:  27 , result of vote:  (0, [(0, 1.0)]) , label:  0 , data:  [6 3 6]\n"
     ]
    }
   ],
   "source": [
    "for i in range(n_training_samples):\n",
    "    neighbors = get_neighbors(learnset_data, \n",
    "                              learnset_labels, \n",
    "                              testset_data[i], \n",
    "                              6, \n",
    "                              distance=distance)\n",
    "    print(\"index: \", i, \n",
    "          \", result of vote: \", vote_distance_weights(neighbors,\n",
    "                                                      all_results=True),\n",
    "          \", label: \", testset_labels[i], \n",
    "          \", data: \", testset_data[i])\n",
    "        "
   ]
  },
  {
   "cell_type": "markdown",
   "metadata": {},
   "source": [
    "Seems likely that the problem is the made-up data"
   ]
  }
 ],
 "metadata": {
  "kernelspec": {
   "display_name": "Python 3",
   "language": "python",
   "name": "python3"
  },
  "language_info": {
   "codemirror_mode": {
    "name": "ipython",
    "version": 3
   },
   "file_extension": ".py",
   "mimetype": "text/x-python",
   "name": "python",
   "nbconvert_exporter": "python",
   "pygments_lexer": "ipython3",
   "version": "3.7.0"
  }
 },
 "nbformat": 4,
 "nbformat_minor": 2
}
